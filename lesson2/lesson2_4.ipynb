{
 "cells": [
  {
   "cell_type": "markdown",
   "id": "0e6fcf1e",
   "metadata": {},
   "source": [
    "#### class (類別)、實體屬性 (instance attribute) 和 實體方法 (instance method)  \n",
    "<sub>1.類別 (Class)-腳踏車工廠 -定義了一台標準腳踏車應該具備哪些特徵(Attributes)和功能(Methods)  \n",
    "2.實體 (Instance) 與實體屬性 (Instance Attributes)-實際製造出來的腳踏車-都來自同一個工廠，但每一台腳踏車都是獨立的個體，可以有自己獨特的特徵  \n",
    "3.實體方法 (Instance Methods) - 腳踏車可以做的事  \n",
    "\n",
    "| 概念 | 腳踏車工廠比喻 | 程式碼中的對應 | 說明 |\n",
    "| :--- | :--- | :--- | :--- |\n",
    "| **Class (類別)** | 腳踏車的工廠 | `class Bicycle:` | 有一個抽象的模板，定義了物件的共同屬性和方法。 |\n",
    "| **Instance (實體)** | 一台「實際製造出來的腳踏車」 | `my_red_bike = Bicycle(\"紅色\")` | 根據 Class 創建出來的具體物件，是獨立的個體。 |\n",
    "| **Instance Attribute (實體屬性)** | 每台腳踏車「各自的特徵」(如顏色、當前速度) | `self.color`, `self.speed` | 屬於每一個實體物件的變數，儲存各自的狀態。 |\n",
    "| **Instance Method (實體方法)** | 每台腳踏車都能做的「動作」(如前進、煞車) | `def pedal(self):` | 屬於每一個實體物件的函式，可以操作該實體的屬性。 |\n",
    "\n"
   ]
  },
  {
   "cell_type": "code",
   "execution_count": null,
   "id": "b4efc64a",
   "metadata": {},
   "outputs": [],
   "source": [
    "# 定義類別\n",
    "\n",
    "class Car(): #定義一個Car類別(工廠)\n",
    "    pass"
   ]
  },
  {
   "cell_type": "code",
   "execution_count": null,
   "id": "20b0486c",
   "metadata": {},
   "outputs": [
    {
     "data": {
      "text/plain": [
       "__main__.Car"
      ]
     },
     "execution_count": 5,
     "metadata": {},
     "output_type": "execute_result"
    }
   ],
   "source": [
    "car1 = Car() #car1由Car()這個工廠所建立的實體(instance)\n",
    "type(car1) "
   ]
  },
  {
   "cell_type": "code",
   "execution_count": 16,
   "id": "265cd84d",
   "metadata": {},
   "outputs": [],
   "source": [
    "class Dog:\n",
    "    def __init__(self, name, age):\n",
    "        self.name = name #前者為建立一個實體屬性叫做name 後面name則是參數\n",
    "        self.age = age   #前者建立一個實體屬性叫做age 後面age則是參數\n",
    "\n",
    "    def bark(self): #實體方法\n",
    "        return f\"{self.name} 亂叫!\""
   ]
  },
  {
   "cell_type": "code",
   "execution_count": null,
   "id": "d2d77db0",
   "metadata": {},
   "outputs": [
    {
     "name": "stdout",
     "output_type": "stream",
     "text": [
      "Boody\n",
      "5\n",
      "Boody 亂叫!\n"
     ]
    }
   ],
   "source": [
    "dog1 = Dog(\"Boody\", 5)\n",
    "print(dog1.name)  #輸出: Boody\n",
    "print(dog1.age)   #輸出: 5\n",
    "print(dog1.bark())#輸出: Boody 亂叫!"
   ]
  },
  {
   "cell_type": "code",
   "execution_count": 18,
   "id": "b0fcdc79",
   "metadata": {},
   "outputs": [
    {
     "name": "stdout",
     "output_type": "stream",
     "text": [
      "Max\n",
      "6\n",
      "Max 亂叫!\n"
     ]
    }
   ],
   "source": [
    "dog2 = Dog(\"Max\", 6)\n",
    "print(dog2.name) #輸出: Max\n",
    "print(dog2.age)  #輸出: 6\n",
    "print(dog2.bark())#輸出: Max 亂叫!"
   ]
  },
  {
   "cell_type": "code",
   "execution_count": null,
   "id": "0ede20dd",
   "metadata": {},
   "outputs": [
    {
     "data": {
      "text/plain": [
       "'AABBCC'"
      ]
     },
     "execution_count": 20,
     "metadata": {},
     "output_type": "execute_result"
    }
   ],
   "source": [
    "#字串就是實體方法 可以查詢字串有哪些實體方法\n",
    "\"AaBbCc\".lower() #輸出: aabbcc\n",
    "\"AaBbCc\".upper() #輸出: AABBCC"
   ]
  }
 ],
 "metadata": {
  "kernelspec": {
   "display_name": "2025_tvdi_pythonWeb",
   "language": "python",
   "name": "python3"
  },
  "language_info": {
   "codemirror_mode": {
    "name": "ipython",
    "version": 3
   },
   "file_extension": ".py",
   "mimetype": "text/x-python",
   "name": "python",
   "nbconvert_exporter": "python",
   "pygments_lexer": "ipython3",
   "version": "3.10.18"
  }
 },
 "nbformat": 4,
 "nbformat_minor": 5
}
