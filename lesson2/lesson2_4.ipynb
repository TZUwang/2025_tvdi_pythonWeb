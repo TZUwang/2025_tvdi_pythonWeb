{
 "cells": [
  {
   "cell_type": "code",
   "execution_count": null,
   "id": "b4efc64a",
   "metadata": {},
   "outputs": [],
   "source": [
    "# 定義類別\n",
    "\n",
    "class Car(): #定義一個Car類別(工廠)\n",
    "    pass"
   ]
  },
  {
   "cell_type": "code",
   "execution_count": null,
   "id": "20b0486c",
   "metadata": {},
   "outputs": [
    {
     "data": {
      "text/plain": [
       "__main__.Car"
      ]
     },
     "execution_count": 5,
     "metadata": {},
     "output_type": "execute_result"
    }
   ],
   "source": [
    "car1 = Car() #car1由Car()這個工廠所建立的實體(instance)\n",
    "type(car1) "
   ]
  },
  {
   "cell_type": "code",
   "execution_count": 16,
   "id": "265cd84d",
   "metadata": {},
   "outputs": [],
   "source": [
    "class Dog:\n",
    "    def __init__(self, name, age):\n",
    "        self.name = name #前者為建立一個實體屬性叫做name 後面name則是參數\n",
    "        self.age = age   #前者建立一個實體屬性叫做age 後面age則是參數\n",
    "\n",
    "    def bark(self): #實體方法\n",
    "        return f\"{self.name} 亂叫!\""
   ]
  },
  {
   "cell_type": "code",
   "execution_count": null,
   "id": "d2d77db0",
   "metadata": {},
   "outputs": [
    {
     "name": "stdout",
     "output_type": "stream",
     "text": [
      "Boody\n",
      "5\n",
      "Boody 亂叫!\n"
     ]
    }
   ],
   "source": [
    "dog1 = Dog(\"Boody\", 5)\n",
    "print(dog1.name)  #輸出: Boody\n",
    "print(dog1.age)   #輸出: 5\n",
    "print(dog1.bark())#輸出: Boody 亂叫!"
   ]
  },
  {
   "cell_type": "code",
   "execution_count": 18,
   "id": "b0fcdc79",
   "metadata": {},
   "outputs": [
    {
     "name": "stdout",
     "output_type": "stream",
     "text": [
      "Max\n",
      "6\n",
      "Max 亂叫!\n"
     ]
    }
   ],
   "source": [
    "dog2 = Dog(\"Max\", 6)\n",
    "print(dog2.name) #輸出: Max\n",
    "print(dog2.age)  #輸出: 6\n",
    "print(dog2.bark())#輸出: Max 亂叫!"
   ]
  },
  {
   "cell_type": "code",
   "execution_count": null,
   "id": "0ede20dd",
   "metadata": {},
   "outputs": [
    {
     "data": {
      "text/plain": [
       "'AABBCC'"
      ]
     },
     "execution_count": 20,
     "metadata": {},
     "output_type": "execute_result"
    }
   ],
   "source": [
    "#字串就是實體方法 可以查詢字串有哪些實體方法\n",
    "\"AaBbCc\".lower() #輸出: aabbcc\n",
    "\"AaBbCc\".upper() #輸出: AABBCC"
   ]
  }
 ],
 "metadata": {
  "kernelspec": {
   "display_name": "2025_tvdi_pythonWeb",
   "language": "python",
   "name": "python3"
  },
  "language_info": {
   "codemirror_mode": {
    "name": "ipython",
    "version": 3
   },
   "file_extension": ".py",
   "mimetype": "text/x-python",
   "name": "python",
   "nbconvert_exporter": "python",
   "pygments_lexer": "ipython3",
   "version": "3.10.18"
  }
 },
 "nbformat": 4,
 "nbformat_minor": 5
}
