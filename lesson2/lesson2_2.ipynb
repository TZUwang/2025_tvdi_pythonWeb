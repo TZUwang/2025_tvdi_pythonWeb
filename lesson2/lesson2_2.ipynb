{
 "cells": [
  {
   "cell_type": "code",
   "execution_count": null,
   "id": "95892549",
   "metadata": {},
   "outputs": [],
   "source": [
    "print(\"Hello, Python!\")"
   ]
  },
  {
   "cell_type": "code",
   "execution_count": 3,
   "id": "68ece27e",
   "metadata": {},
   "outputs": [
    {
     "name": "stdout",
     "output_type": "stream",
     "text": [
      "         *       \n",
      "        ***      \n",
      "      *******    \n",
      "     *********   \n",
      "    ***********  \n",
      "   ************* \n",
      "        |||      \n",
      "       =====     \n"
     ]
    }
   ],
   "source": [
    "# 定義一個沒有參數,沒有傳出值的function\n",
    "# todo:建立一個可以使用print()劃出聖誕樹的function\n",
    "# 必須要有說明docstring\n",
    "def draw_christmas_tree():\n",
    "    \"\"\"\n",
    "    這個函數會印出一個簡單的 ASCII 藝術聖誕樹。\n",
    "    \"\"\"\n",
    "    print(\"         *       \")\n",
    "    print(\"        ***      \")\n",
    "    print(\"      *******    \")\n",
    "    print(\"     *********   \")\n",
    "    print(\"    ***********  \")\n",
    "    print(\"   ************* \")\n",
    "    print(\"        |||      \")\n",
    "    print(\"       =====     \")\n",
    "\n",
    "draw_christmas_tree()\n"
   ]
  },
  {
   "cell_type": "code",
   "execution_count": 16,
   "id": "de131228",
   "metadata": {},
   "outputs": [],
   "source": [
    "# 自訂的function 有參數 有傳出值\n",
    "# todo:建立一個簡單問候函數\n",
    "# 名稱:greet_person(snake_case)\n",
    "# 參數:name,greeting,greeting有預設值\n",
    "\n",
    "def greet_person(name:str, greeting:str=\"Hello\"):\n",
    "    \"\"\"\n",
    "    這個函數會根據提供的名字和問候語來打印問候信息。\n",
    "    \n",
    "    參數:\n",
    "    name (str): 要問候的人的名字。\n",
    "    greeting (str): 問候語，默認為 \"Hello\"。\n",
    "    \n",
    "    傳出值:\n",
    "    str: 格式化的問候信息。\n",
    "    \"\"\"\n",
    "    return f\"{greeting}, {name}!\""
   ]
  },
  {
   "cell_type": "code",
   "execution_count": 17,
   "id": "0dc1eb89",
   "metadata": {},
   "outputs": [
    {
     "name": "stdout",
     "output_type": "stream",
     "text": [
      "Help on function greet_person in module __main__:\n",
      "\n",
      "greet_person(name: str, greeting: str = 'Hello')\n",
      "    這個函數會根據提供的名字和問候語來打印問候信息。\n",
      "    \n",
      "    參數:\n",
      "    name (str): 要問候的人的名字。\n",
      "    greeting (str): 問候語，默認為 \"Hello\"。\n",
      "    \n",
      "    傳出值:\n",
      "    str: 格式化的問候信息。\n",
      "\n"
     ]
    }
   ],
   "source": [
    "help(greet_person) #help為內建函式 可以查看函釋註解功能"
   ]
  },
  {
   "cell_type": "code",
   "execution_count": 13,
   "id": "9e340c44",
   "metadata": {},
   "outputs": [
    {
     "name": "stdout",
     "output_type": "stream",
     "text": [
      "Hello, WWWWWWW!\n"
     ]
    }
   ],
   "source": [
    "#使用最少的引數值呼叫 \n",
    "greet_person('WWWWWWW')\n",
    "\n",
    "#先將括號內的事情做完傳出一個字串叫'Hello, WWWWWWW' 後print再將之印出 所以沒有''\n",
    "print(greet_person('WWWWWWW'))"
   ]
  },
  {
   "cell_type": "code",
   "execution_count": 15,
   "id": "60f31e53",
   "metadata": {},
   "outputs": [
    {
     "name": "stdout",
     "output_type": "stream",
     "text": [
      "嗨嗨嗨嗨嗨, QQQQQQQ!\n"
     ]
    }
   ],
   "source": [
    "#greeting不要使用預設值\n",
    "print(greet_person(\"QQQQQQQ\", greeting=\"嗨嗨嗨嗨嗨\"))"
   ]
  },
  {
   "cell_type": "code",
   "execution_count": null,
   "id": "a72e4d87",
   "metadata": {},
   "outputs": [],
   "source": [
    "# todo:建立一個BMI計算機\n",
    "# 名稱:calculate_bmi\n",
    "# 傳出值(tuple):(bmi,status)\n",
    "\n",
    "def calculate_bmi(weight: float, height_cm: float) -> tuple:\n",
    "    \"\"\"\n",
    "    計算身體質量指數 (BMI) 並回傳其值與對應的健康狀況。\n",
    "    身高單位為公分。\n",
    "\n",
    "    此計算基於台灣衛生福利部國民健康署的標準。\n",
    "\n",
    "    Args:\n",
    "        height_cm (float): 身高（單位：公分）。\n",
    "        weight (float): 體重（單位：公斤）。\n",
    "\n",
    "    Returns:\n",
    "        Tuple: 一個包含 BMI 值和健康狀況的元組。\n",
    "               如果輸入的身高或體重不合法，BMI 會回傳 0.0，\n",
    "               並附上錯誤訊息。\n",
    "    \"\"\"\n",
    "    if height_cm <= 0 or weight <= 0:\n",
    "        return 0.0, \"身高和體重必須是正數\"\n",
    "\n",
    "    # 將身高從公分轉換為公尺，以便計算\n",
    "    height_m = height_cm / 100\n",
    "\n",
    "    # BMI 公式：體重（公斤） / 身高（公尺）的平方\n",
    "    bmi = weight / (height_m ** 2)\n",
    "\n",
    "    status = \"\"\n",
    "    if bmi < 18.5:\n",
    "        status = \"體重過輕\"\n",
    "    elif 18.5 <= bmi < 24:\n",
    "        status = \"正常範圍\"\n",
    "    elif 24 <= bmi < 27:\n",
    "        status = \"過重\"\n",
    "    elif 27 <= bmi < 30:\n",
    "        status = \"輕度肥胖\"\n",
    "    elif 30 <= bmi < 35:\n",
    "        status = \"中度肥胖\"\n",
    "    else:  # bmi >= 35\n",
    "        status = \"重度肥胖\"\n",
    "\n",
    "    return bmi, status"
   ]
  },
  {
   "cell_type": "code",
   "execution_count": 22,
   "id": "799eb330",
   "metadata": {},
   "outputs": [
    {
     "name": "stdout",
     "output_type": "stream",
     "text": [
      "您的bmi是22.86,您的狀態是正常範圍\n"
     ]
    }
   ],
   "source": [
    "#tuple的拆解法\n",
    "bmi, status = calculate_bmi(70, 175)\n",
    "print(f\"您的bmi是{bmi:.2f},您的狀態是{status}\")"
   ]
  },
  {
   "cell_type": "code",
   "execution_count": null,
   "id": "c8d63908",
   "metadata": {},
   "outputs": [],
   "source": [
    "# todo:自訂一個密碼驗證器\n",
    "# 參數(str): password\n",
    "# 功能:\n",
    "#   -最少需要8個字元\n",
    "#   -如果有數字,有大寫字元,有小寫字元,傳出**密碼強度:強**\n",
    "#   -如果不是強,傳出**密碼強度:中等或弱\n",
    "def check_password_strength(password: str) -> str:\n",
    "    \"\"\"\n",
    "    驗證密碼強度\n",
    "    - 最少需要8個字元\n",
    "    - 強密碼: 包含數字、大寫字母和小寫字母\n",
    "    - 中等密碼: 長度 >= 8, 但未同時包含數字、大寫字母和小寫字母\n",
    "    - 弱密碼: 長度 < 8\n",
    "    \"\"\"\n",
    "    # 1. 檢查長度，判斷是否為「弱」\n",
    "    if len(password) < 8:\n",
    "        return \"密碼強度:弱 (密碼長度不足)\"\n",
    "\n",
    "    # 2. 檢查是否包含數字、大寫和小寫字母\n",
    "    has_digit = any(char.isdigit() for char in password) \n",
    "    has_upper = any(char.isupper() for char in password)\n",
    "    has_lower = any(char.islower() for char in password)\n",
    "\n",
    "    # 3. 判斷強度 (在長度已滿足 >= 8 的前提下)\n",
    "    if has_digit and has_upper and has_lower:\n",
    "        return \"密碼強度:強\"\n",
    "    else:\n",
    "        # 長度 >= 8 但不符合強密碼條件，則為中等\n",
    "        return \"密碼強度:中等\"\n"
   ]
  },
  {
   "cell_type": "code",
   "execution_count": 28,
   "id": "c1eacf69",
   "metadata": {},
   "outputs": [
    {
     "data": {
      "text/plain": [
       "8"
      ]
     },
     "execution_count": 28,
     "metadata": {},
     "output_type": "execute_result"
    }
   ],
   "source": [
    "password = \"ABC12345\"\n",
    "len(password) #8"
   ]
  },
  {
   "cell_type": "code",
   "execution_count": null,
   "id": "7fb7923d",
   "metadata": {},
   "outputs": [
    {
     "data": {
      "text/plain": [
       "(True, False, True)"
      ]
     },
     "execution_count": 29,
     "metadata": {},
     "output_type": "execute_result"
    }
   ],
   "source": [
    "'''\n",
    "any()檢查裡面是否有任何一個元素的值是 True \n",
    "如果至少有一個元素是 True，any() 就會回傳 True。\n",
    "如果所有元素都是 False，或者這個可迭代物件是空的，any() 就會回傳 False。\n",
    "'''\n",
    "has_digit = any(char.isdigit() for char in password) \n",
    "has_upper = any(char.isupper() for char in password)\n",
    "has_lower = any(char.islower() for char in password)\n",
    "\n",
    "(has_upper, has_lower, has_digit) #(True, False, True)"
   ]
  },
  {
   "cell_type": "code",
   "execution_count": null,
   "id": "6c9075e8",
   "metadata": {},
   "outputs": [
    {
     "data": {
      "text/plain": [
       "'密碼強度:中等'"
      ]
     },
     "execution_count": 33,
     "metadata": {},
     "output_type": "execute_result"
    }
   ],
   "source": [
    "check_password_strength(\"MyPassword123\") #密碼強度:強\n",
    "check_password_strength(\"Pass1\")         #密碼強度:弱\n",
    "check_password_strength(\"passwordabc\")   #密碼強度:中等\n"
   ]
  }
 ],
 "metadata": {
  "kernelspec": {
   "display_name": "2025_tvdi_pythonWeb",
   "language": "python",
   "name": "python3"
  },
  "language_info": {
   "codemirror_mode": {
    "name": "ipython",
    "version": 3
   },
   "file_extension": ".py",
   "mimetype": "text/x-python",
   "name": "python",
   "nbconvert_exporter": "python",
   "pygments_lexer": "ipython3",
   "version": "3.10.18"
  }
 },
 "nbformat": 4,
 "nbformat_minor": 5
}
