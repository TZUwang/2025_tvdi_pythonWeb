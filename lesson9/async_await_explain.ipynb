{
 "cells": [
  {
   "cell_type": "markdown",
   "id": "29d9cffd",
   "metadata": {},
   "source": [
    "### async   \n",
    "作用：  \n",
    "1.當你在一個函式前面加上 async，這個函式會自動回傳一個 Promise 物件。  \n",
    "2.如果函式中有 return 一個值，那麼回傳的 Promise 會被解析並帶上這個值。  \n",
    "3.如果函式中拋出一個錯誤，那麼回傳的 Promise 會被拒絕並帶上這個錯誤。  "
   ]
  },
  {
   "cell_type": "markdown",
   "id": "749a1a70",
   "metadata": {},
   "source": [
    "### await  \n",
    "限制：await 只能在 async 函式內部使用。  \n",
    "作用：  \n",
    "1.當程式執行到 await 時，它會「暫停」async 函式的執行。  \n",
    "2.它不會卡住整個程式，而是會先去執行 async 函式之外的其他同步程式碼。  \n",
    "3.它會等待 await 後面的 Promise 物件狀態變為「已實現」。  \n",
    "4.一旦 Promise 成功解析，await 會將解析後的值回傳，然後 async 函式會從暫停的地方繼續往下執行。  \n",
    "5.如果 Promise 被拒絕，await 會將拒絕的原因（通常是一個錯誤物件）拋出。  "
   ]
  },
  {
   "cell_type": "markdown",
   "id": "842fcb3a",
   "metadata": {},
   "source": [
    "### 以 [test1](./lesson9/templates/test1.html) 為例子  \n",
    "\n",
    "執行順序拆解：    \n",
    "1.A. 準備呼叫 getMyData()... 被印出。  \n",
    "2.getMyData() 被呼叫。  \n",
    "3. 函式1.開始執行，準備 'try'... 被印出。  \n",
    "4.getMyData 執行到 await mockFetch(false)。  \n",
    "5.mockFetch 被呼叫，店員：開始去後台拿資料... 被印出，並設定一個 2 秒的計時器。  \n",
    "6.await 暫停 getMyData 函式的執行，但不會卡住整個程式。JavaScript 主執行緒會跳出 getMyData 函式，繼續執行後面的程式碼。  \n",
    "7.B. 程式碼繼續往下跑... (不會等 getMyData 完成) 被印出。此刻，主執行緒的同步程式碼都跑完了。  \n",
    "8.(過了 2 秒)  \n",
    "9.mockFetch 裡的 setTimeout 時間到，因為傳入 false，所以呼叫 reject(\"錯誤：伺服器 500 (壞掉了)\")。    \n",
    "10.await 偵測到 Promise 被拒絕，於是它將拒絕的原因 (\"錯誤：...\") 作為錯誤拋出。  \n",
    "11.這個錯誤被 try...catch 區塊的 catch 捕捉到。  \n",
    "12. 3. (2秒後) 失敗了... 原因是： 錯誤：伺服器 500 (壞掉了) 被印出。  \n",
    "13. catch 區塊執行完畢，getMyData 函式繼續往下執行。  \n",
    "14. 函式4.執行完畢。 被印出。  "
   ]
  },
  {
   "cell_type": "markdown",
   "id": "7345243c",
   "metadata": {},
   "source": [
    "### async/await 的優點\n",
    "1.除錯方便：在除錯模式下，你可以像同步程式碼一樣逐行執行 await 的程式碼，更容易追蹤問題  \n",
    "2.錯誤處理簡單  \n",
    "3.可讀性高  "
   ]
  }
 ],
 "metadata": {
  "kernelspec": {
   "display_name": "2025_tvdi_pythonWeb",
   "language": "python",
   "name": "python3"
  },
  "language_info": {
   "name": "python",
   "version": "3.10.18"
  }
 },
 "nbformat": 4,
 "nbformat_minor": 5
}
