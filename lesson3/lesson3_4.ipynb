{
 "cells": [
  {
   "cell_type": "code",
   "execution_count": null,
   "id": "9ab094cb",
   "metadata": {},
   "outputs": [
    {
     "name": "stdout",
     "output_type": "stream",
     "text": [
      "出現錯誤,錯誤是:名字錯誤\n"
     ]
    }
   ],
   "source": [
    "#Exception: 這是所有內建錯誤類別的父類別。使用 Exception 可以確保無論發生什麼類型的錯誤（例如 NameError、TypeError、ValueError 等），都能被捕獲到。\n",
    "try:\n",
    "    raise NameError(\"名字錯誤\") #raise是內建函式 可以引發後面的NameError\n",
    "    print(\"Hello\") #這行不會執行 因為raise引發了錯誤會跳出\n",
    "except Exception as e: #若出現錯誤 請你不要直接crash 而是印出出現錯誤 #可以將 e 想像成一個容器，裡面包含了錯誤的詳細資訊，例如錯誤訊息\n",
    "    print(f\"出現錯誤,錯誤是:{e}\")\n",
    "else:\n",
    "    print(\"沒有錯誤\")"
   ]
  },
  {
   "cell_type": "code",
   "execution_count": null,
   "id": "8ea5e872",
   "metadata": {},
   "outputs": [
    {
     "name": "stdout",
     "output_type": "stream",
     "text": [
      "Hello\n",
      "沒有錯誤\n"
     ]
    }
   ],
   "source": [
    "#檢查錯誤很重要\n",
    "try:\n",
    "    #raise NameError(\"名字錯誤\") \n",
    "    print(\"Hello\") \n",
    "except NameError: \n",
    "    print(\"名字錯誤\")\n",
    "except Exception as e: #except只會執行一個 (上面的是檢查NameError這個錯誤 下面的則是所有錯誤)\n",
    "    print(f\"出現錯誤,錯誤是:{e}\")\n",
    "else:\n",
    "    print(\"沒有錯誤\")"
   ]
  }
 ],
 "metadata": {
  "kernelspec": {
   "display_name": "2025_tvdi_pythonWeb",
   "language": "python",
   "name": "python3"
  },
  "language_info": {
   "codemirror_mode": {
    "name": "ipython",
    "version": 3
   },
   "file_extension": ".py",
   "mimetype": "text/x-python",
   "name": "python",
   "nbconvert_exporter": "python",
   "pygments_lexer": "ipython3",
   "version": "3.10.18"
  }
 },
 "nbformat": 4,
 "nbformat_minor": 5
}
