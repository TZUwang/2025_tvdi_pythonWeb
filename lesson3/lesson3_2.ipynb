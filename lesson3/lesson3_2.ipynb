{
 "cells": [
  {
   "cell_type": "code",
   "execution_count": null,
   "id": "6f0cabad",
   "metadata": {},
   "outputs": [],
   "source": [
    "def sum (*args): #文件內自訂的function\n",
    "    total = 0\n",
    "    for value in args:\n",
    "        total += value\n",
    "    return total"
   ]
  },
  {
   "cell_type": "code",
   "execution_count": 3,
   "id": "b21bd0f7",
   "metadata": {},
   "outputs": [
    {
     "data": {
      "text/plain": [
       "55"
      ]
     },
     "execution_count": 3,
     "metadata": {},
     "output_type": "execute_result"
    }
   ],
   "source": [
    "sum (1, 2, 3, 4, 5, 6, 7, 8, 9, 10) #*args 沒有限制數量的引數值呼叫"
   ]
  },
  {
   "cell_type": "code",
   "execution_count": null,
   "id": "ca734613",
   "metadata": {},
   "outputs": [],
   "source": [
    "class Tools: \n",
    "    @staticmethod #把function放進class使用 不需要實體\n",
    "    def sum (*args): \n",
    "        total = 0\n",
    "        for value in args:\n",
    "            total += value\n",
    "        return total\n",
    "    \n",
    "    @classmethod\n",
    "    def sum1 (cls, *args): #cls代表class\n",
    "        total = 0\n",
    "        for value in args:\n",
    "            total += value\n",
    "        return total"
   ]
  },
  {
   "cell_type": "code",
   "execution_count": 9,
   "id": "3f047744",
   "metadata": {},
   "outputs": [
    {
     "data": {
      "text/plain": [
       "55"
      ]
     },
     "execution_count": 9,
     "metadata": {},
     "output_type": "execute_result"
    }
   ],
   "source": [
    "Tools.sum (1, 2, 3, 4, 5, 6, 7, 8, 9, 10) #不需要建立 Tools 的實體，就可以直接呼叫 sum 方法\n",
    "Tools.sum1 (1, 2, 3, 4, 5, 6, 7, 8, 9, 10)"
   ]
  },
  {
   "cell_type": "markdown",
   "id": "19dbd8a6",
   "metadata": {},
   "source": [
    "| 特性 | @staticmethod (靜態方法) | @classmethod ( 類別方法) |\n",
    "|-------|--------------------------|------------------------|\n",
    "| 第一個參數 | 無 (self 或 cls) | cls (代表類別本身) |\n",
    "| 可存取 | 無法存取類別或實體的屬性 | 可以存取類別的屬性，但無法存取實體的屬性 |\n",
    "| 使用時機 | 獨立的工具，放在類別裡只是方便管理，和類別或實體沒有直接關係 | 與類別本身緊密相關，可以存取類別的屬性，通常用來處理與整個類別有關的事務 |\n",
    "| 呼叫方式 | ClassName.method() | ClassName.method() |"
   ]
  }
 ],
 "metadata": {
  "kernelspec": {
   "display_name": "2025_tvdi_pythonWeb",
   "language": "python",
   "name": "python3"
  },
  "language_info": {
   "codemirror_mode": {
    "name": "ipython",
    "version": 3
   },
   "file_extension": ".py",
   "mimetype": "text/x-python",
   "name": "python",
   "nbconvert_exporter": "python",
   "pygments_lexer": "ipython3",
   "version": "3.10.18"
  }
 },
 "nbformat": 4,
 "nbformat_minor": 5
}
