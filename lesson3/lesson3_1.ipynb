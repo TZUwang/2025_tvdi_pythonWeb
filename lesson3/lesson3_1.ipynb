{
 "cells": [
  {
   "cell_type": "code",
   "execution_count": null,
   "id": "575590e6",
   "metadata": {},
   "outputs": [],
   "source": [
    "class Person:\n",
    "    def __init__(self, name): #自訂的初始化\n",
    "        self.name = name \n",
    "        #self.name 是指「這個物件(Person)的 name 屬性(attribute)」\n",
    "        #= name是賦值操作 將 __init__ 方法中傳入的 name 參數值，賦予給左邊的實體屬性 self.name\n",
    "\n",
    "    def greeting(self):  #自訂的實體方法\n",
    "        print(f'Hello, my name is {self.name}') #取得實體屬性(self.name)的值"
   ]
  },
  {
   "cell_type": "code",
   "execution_count": null,
   "id": "8d40e50a",
   "metadata": {},
   "outputs": [
    {
     "name": "stdout",
     "output_type": "stream",
     "text": [
      "Hello, my name is 嗯嗯啊阿\n",
      "Hello, my name is QWQ\n"
     ]
    }
   ],
   "source": [
    "p1:Person = Person('嗯嗯啊阿') #若沒有預設值 沒有引數值呼叫會出錯\n",
    "p1.greeting() #實體.實體方法\n",
    "\n",
    "p2:Person = Person(name = 'QWQ')\n",
    "p2.greeting()"
   ]
  },
  {
   "cell_type": "code",
   "execution_count": null,
   "id": "5f0cbeb4",
   "metadata": {},
   "outputs": [],
   "source": [
    "class Student(Person): #繼承Person (所以class Person為父類別 class Student為子類別)\n",
    "    def __init__(self, name, chinese, english, math): #建立Student自己的attribute\n",
    "        super().__init__(name)\n",
    "        self.__chinese = chinese #只許內部使用 不可被更改\n",
    "        self.__english = english\n",
    "        self.__math = math\n",
    "\n",
    "    @property #decorator 可以把一個方法變成一個屬性 當從外部存取它時感覺就像是在存取一個屬性 但背後卻執行了某個方法\n",
    "    def chinese(self): #這個方法只負責返回私有屬性 __chinese 的值\n",
    "        return self.__chinese # read only 不可以寫入 只可以讀取 \n",
    "    \n",
    "    @property #decorator\n",
    "    def english(self):\n",
    "        return self.__english\n",
    "    \n",
    "    @property #decorator\n",
    "    def math(self):\n",
    "        return self.__math\n",
    "\n",
    "\n",
    "    def greeting(self): #overwrite (覆寫)父類別的實體方法\n",
    "        super().greeting() #super(): 取得 Student 類別的父類別，也就是 Person 類別 .greeting(): 呼叫 Person 類別中的 greeting() 方法\n",
    "        print(f\"您好~我是學生\")\n",
    "\n",
    "    def total(self): #method 自訂的實體方法\n",
    "        return self.chinese + self.english + self.math\n",
    "\n",
    "    def avg(self): #method 自訂的實體方法\n",
    "        return self.total() / 3.0\n",
    "\n",
    "    def __repr__(self): #__repr__回傳一個清晰且無歧義的字串，用來代表物件\n",
    "        return f\"\"\"\n",
    "        我是學生\n",
    "        我的名字是{self.name}\n",
    "        我的總分是{self.total()}\n",
    "        我的平均是{self.avg()}\n",
    "        \"\"\""
   ]
  },
  {
   "cell_type": "code",
   "execution_count": 48,
   "id": "102d87a5",
   "metadata": {},
   "outputs": [
    {
     "name": "stdout",
     "output_type": "stream",
     "text": [
      "Kevinnnn\n",
      "國文分數69\n",
      "英文分數60\n",
      "數學分數87\n",
      "你的總分為:216\n",
      "你的平均為:72.0\n",
      "Hello, my name is Kevinnnn\n",
      "您好~我是學生\n"
     ]
    }
   ],
   "source": [
    "s1 = Student(\"Kevinnnn\", english = 60, math = 87, chinese = 69) #使用引數名稱呼叫可以不用照順序 一旦使用引數名稱呼叫後面每一個都要使用引數名稱呼叫\n",
    "print(s1.name) # 印出 Kevinnnn\n",
    "# s1.chinese = 100 #外部更改會出錯\n",
    "# s1.english = 100\n",
    "# s1.math = 100\n",
    "print(f\"國文分數{s1.chinese}\")\n",
    "print(f\"英文分數{s1.english}\")\n",
    "print(f\"數學分數{s1.math}\")\n",
    "print(f\"你的總分為:{s1.total()}\")\n",
    "print(f\"你的平均為:{s1.avg()}\")\n",
    "s1.greeting()"
   ]
  },
  {
   "cell_type": "code",
   "execution_count": 49,
   "id": "daf90486",
   "metadata": {},
   "outputs": [
    {
     "name": "stdout",
     "output_type": "stream",
     "text": [
      "\n",
      "        我是學生\n",
      "        我的名字是Kevinnnn\n",
      "        我的總分是216\n",
      "        我的平均是72.0\n",
      "        \n"
     ]
    }
   ],
   "source": [
    "print(s1)"
   ]
  }
 ],
 "metadata": {
  "kernelspec": {
   "display_name": "2025_tvdi_pythonWeb",
   "language": "python",
   "name": "python3"
  },
  "language_info": {
   "codemirror_mode": {
    "name": "ipython",
    "version": 3
   },
   "file_extension": ".py",
   "mimetype": "text/x-python",
   "name": "python",
   "nbconvert_exporter": "python",
   "pygments_lexer": "ipython3",
   "version": "3.10.18"
  }
 },
 "nbformat": 4,
 "nbformat_minor": 5
}
